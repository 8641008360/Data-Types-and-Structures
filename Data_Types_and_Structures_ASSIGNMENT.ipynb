{
  "nbformat": 4,
  "nbformat_minor": 0,
  "metadata": {
    "colab": {
      "provenance": []
    },
    "kernelspec": {
      "name": "python3",
      "display_name": "Python 3"
    },
    "language_info": {
      "name": "python"
    }
  },
  "cells": [
    {
      "cell_type": "markdown",
      "source": [
        " Data Types and Structures Questions"
      ],
      "metadata": {
        "id": "gseyF3YWlnz-"
      }
    },
    {
      "cell_type": "markdown",
      "source": [
        "1. What are data structures, and why are they important?\n",
        "    - Data structures are specialized formats for organizing, processing, and storing data. They define the relationship between the data and the operations that can be performed on it.\n",
        "\n",
        "    example  -  \n",
        "        * Efficiency\n",
        "        * Code Clarity and Maintenance\n",
        "        * Resource Optimization\n",
        "\n",
        "2.  Explain the difference between mutable and immutable data types with\n",
        "  examples.\n",
        "    \n",
        "  Mutable Data Types - These can be changed after creation\n",
        "       * Lists\n",
        "       * Dictionaries\n",
        "\n",
        "  Immutable Data Types - These cannot be changed once created\n",
        "       * Integers\n",
        "       * Floats\n",
        "      \n",
        "3. What are the main differences between lists and tuples in Python?\n",
        "    - the difference between both are\n",
        "\n",
        "     List:  Mutable  You can change, add, or remove elements.\n",
        "\n",
        "     Tuple:  Immutable – Once created, it can’t be modified.\n",
        "\n",
        "4. Describe how dictionaries store data.\n",
        "    - A dictionary is a collection of key-value pairs. Each key maps to a value, and the dictionary uses a special system to store and retrieve these pairs very quickly.\n",
        "\n",
        "      * Hash the Key\n",
        "      * Find a Bucket (Slot)\n",
        "      * Store Key-Value Pair\n",
        "\n",
        "5. Why might you use a set instead of a list in Python?\n",
        "    - there are mny differences which tells us why to use set instead of list-\n",
        "\n",
        "      * Uniqueness of Elements\n",
        "      * Faster Membership Tests\n",
        "      \n",
        "6. What is a string in Python, and how is it different from a list?\n",
        "    - A string is a sequence of characters. Its used to represent text.\n",
        "     \n",
        "     Key Differences\n",
        "                      String                   List\n",
        "\n",
        "      *            Only characters           Any type (numbers, strings, etc.)\n",
        "      *             Immutable                Mutable\n",
        "\n",
        "7. How do tuples ensure data integrity in Python?\n",
        "    - How Tuples Ensure Data Integrity\n",
        "\n",
        "      * Immutability\n",
        "      * Safer for Use as Dictionary Keys\n",
        "      * Reliable in Shared or Parallel Environments\n",
        "\n",
        "8. What is a hash table, and how does it relate to dictionaries in Python?\n",
        "    - A hash table is a data structure that stores key-value pairs. It uses a hash function to compute an index into an array of buckets or slots, from which the desired value can be found very quickly.\n",
        "\n",
        "      * In Python, the dictionary (dict) is a built-in implementation of a hash table.\n",
        "\n",
        "9. Can lists contain different data types in Python?\n",
        "    - In Python, lists can contain elements of different data types — and that’s one of the things that makes them super flexible and powerful.\n",
        "\n",
        "10. Explain why strings are immutable in Python.\n",
        "    - Here are the top reasons:\n",
        "\n",
        "      * Safety and Predictability\n",
        "      * Hashability\n",
        "      * Performance Optimization\n",
        "\n",
        "11. What advantages do dictionaries offer over lists for certain tasks?\n",
        "     - Advantages of Dictionaries Over Lists:-\n",
        "\n",
        "      * Fast Lookups by Key (O(1))\n",
        "      * Key-Value Pair Organization\n",
        "      *  No Need to Know the Index\n",
        "\n",
        "12. Describe a scenario where using a tuple would be preferable over a list?\n",
        "     - Scenario where tuple is better here:-\n",
        "\n",
        "      * Immutability\n",
        "      * Clear structure\n",
        "      * Efficiency\n",
        "      * Hashable\n",
        "\n",
        "13. How do sets handle duplicate values in Python?\n",
        "     - When you create a set, Python will only keep one instance of any repeated value.\n",
        "\n",
        "14. How does the “in” keyword work differently for lists and dictionaries?\n",
        "     \n",
        "  **Using in with Lists**\n",
        "\n",
        "     * When you use in with a list, it checks if the value exists anywhere in the list.\n",
        "\n",
        "  **Using in with Dictionaries**\n",
        "\n",
        "      * When you use in with a dictionary, it checks only the keys — not the values.\n",
        "\n",
        "15. Can you modify the elements of a tuple? Explain why or why not.\n",
        "     -  Why not because Tuples are Immutable.\n",
        "     \n",
        "     A tuple is an immutable data type — once it's created, its contents cannot be changed, added to, or removed.\n",
        "\n",
        "16. What is a nested dictionary, and give an example of its use case?\n",
        "     - A nested dictionary in Python is a dictionary where each value itself can be another dictionary (or other complex data structure). It allows you to represent more complex hierarchical relationships using key-value pairs.\n",
        "\n",
        "17. Describe the time complexity of accessing elements in a dictionary?\n",
        "     - The time complexity of accessing elements in a dictionary in Python is:\n",
        "\n",
        "      * Average Case: O(1) (Constant Time)\n",
        "      * Worst Case: O(n)\n",
        "\n",
        "18. In what situations are lists preferred over dictionaries?\n",
        "     - While dictionaries are awesome for key-value access, there are definitely cases where lists are the better tool. Here's a breakdown:\n",
        "\n",
        "     Use Lists When:\n",
        "        * Order matters\n",
        "        * You're working with simple collections\n",
        "        * Memory efficiency\n",
        "\n",
        "19. Why are dictionaries considered unordered, and how does that affect data retrieval?\n",
        "\n",
        "     - Before Python 3.7, dictionaries did not guarantee order — the internal layout depended on the hashing algorithm and how keys were stored in memory. This meant:\n",
        "\n",
        "        * Keys could appear in any order, regardless of insertion.\n",
        "\n",
        "        * Iterating over a dict (for key in my_dict) could give different orders each time.\n",
        "\n",
        "This made dictionaries unreliable for ordered data, so they were considered unordered collections.\n",
        "\n",
        "20. Explain the difference between a list and a dictionary in terms of data retrieval.\n",
        "     - The differences between there are -\n",
        "\n",
        "       * Access method\n",
        "       * Time complexity\n",
        "       * Ordering\n",
        "\n",
        "\n"
      ],
      "metadata": {
        "id": "WfGYeX-skqnl"
      }
    },
    {
      "cell_type": "markdown",
      "source": [
        "Practical Questions"
      ],
      "metadata": {
        "id": "VepKJvIDmC3l"
      }
    },
    {
      "cell_type": "code",
      "source": [
        "#1.\n",
        "\n",
        "# Create a string with your name\n",
        "my_name = \"Alice\"\n",
        "\n",
        "# Print the name\n",
        "print(\"My name is\", my_name)\n"
      ],
      "metadata": {
        "colab": {
          "base_uri": "https://localhost:8080/"
        },
        "id": "hFJCwOoWZPk-",
        "outputId": "a437cc3b-28db-4f19-da0e-a1e7d4073d56"
      },
      "execution_count": 1,
      "outputs": [
        {
          "output_type": "stream",
          "name": "stdout",
          "text": [
            "My name is Alice\n"
          ]
        }
      ]
    },
    {
      "cell_type": "code",
      "source": [
        "#2.\n",
        "\n",
        "# Define the string\n",
        "text = \"Hello World\"\n",
        "\n",
        "# Find the length\n",
        "length = len(text)\n",
        "\n",
        "# Print the length\n",
        "print(\"Length of the string is:\", length)"
      ],
      "metadata": {
        "colab": {
          "base_uri": "https://localhost:8080/"
        },
        "id": "TBwqZbfOZjqA",
        "outputId": "8c1249ca-3d54-49e1-9e1f-ee356c2d4a2f"
      },
      "execution_count": 2,
      "outputs": [
        {
          "output_type": "stream",
          "name": "stdout",
          "text": [
            "Length of the string is: 11\n"
          ]
        }
      ]
    },
    {
      "cell_type": "code",
      "source": [
        "#3.\n",
        "\n",
        "# Define the string\n",
        "text = \"Python Programming\"\n",
        "\n",
        "# Slice the first 3 characters\n",
        "sliced_text = text[:3]\n",
        "\n",
        "# Print the result\n",
        "print(\"First 3 characters:\", sliced_text)\n"
      ],
      "metadata": {
        "colab": {
          "base_uri": "https://localhost:8080/"
        },
        "id": "u0bg717cZxym",
        "outputId": "0b531aec-9c8a-499b-a63e-1794c12340c3"
      },
      "execution_count": 3,
      "outputs": [
        {
          "output_type": "stream",
          "name": "stdout",
          "text": [
            "First 3 characters: Pyt\n"
          ]
        }
      ]
    },
    {
      "cell_type": "code",
      "source": [
        "#4.\n",
        "\n",
        "# Define the string\n",
        "text = \"hello\"\n",
        "\n",
        "# Convert to uppercase\n",
        "upper_text = text.upper()\n",
        "\n",
        "# Print the result\n",
        "print(\"Uppercase:\", upper_text)\n"
      ],
      "metadata": {
        "colab": {
          "base_uri": "https://localhost:8080/"
        },
        "id": "05x_UpwuaA_2",
        "outputId": "9abd2ca8-4bbe-4a65-c70d-139e57f4348d"
      },
      "execution_count": 4,
      "outputs": [
        {
          "output_type": "stream",
          "name": "stdout",
          "text": [
            "Uppercase: HELLO\n"
          ]
        }
      ]
    },
    {
      "cell_type": "code",
      "source": [
        "#5.\n",
        "\n",
        "# Define the string\n",
        "text = \"I like apple\"\n",
        "\n",
        "# Replace 'apple' with 'orange'\n",
        "new_text = text.replace(\"apple\", \"orange\")\n",
        "\n",
        "# Print the result\n",
        "print(\"Updated string:\", new_text)\n"
      ],
      "metadata": {
        "colab": {
          "base_uri": "https://localhost:8080/"
        },
        "id": "nONK3MhUaNou",
        "outputId": "672ac2c9-4342-47b7-c209-5eb8d4cb2ec4"
      },
      "execution_count": 5,
      "outputs": [
        {
          "output_type": "stream",
          "name": "stdout",
          "text": [
            "Updated string: I like orange\n"
          ]
        }
      ]
    },
    {
      "cell_type": "code",
      "source": [
        "#6.\n",
        "\n",
        "# Create a list with numbers 1 to 5\n",
        "numbers = [1, 2, 3, 4, 5]\n",
        "\n",
        "# Print the list\n",
        "print(\"The list is:\", numbers)\n"
      ],
      "metadata": {
        "colab": {
          "base_uri": "https://localhost:8080/"
        },
        "id": "dh2_DMmRaevm",
        "outputId": "6e405ca9-a199-42f8-8593-cc366af539f7"
      },
      "execution_count": 6,
      "outputs": [
        {
          "output_type": "stream",
          "name": "stdout",
          "text": [
            "The list is: [1, 2, 3, 4, 5]\n"
          ]
        }
      ]
    },
    {
      "cell_type": "code",
      "source": [
        "#7.\n",
        "\n",
        "# Define the list\n",
        "numbers = [1, 2, 3, 4]\n",
        "\n",
        "# Append the number 10 to the list\n",
        "numbers.append(10)\n",
        "\n",
        "# Print the updated list\n",
        "print(\"Updated list:\", numbers)\n"
      ],
      "metadata": {
        "colab": {
          "base_uri": "https://localhost:8080/"
        },
        "id": "abeRSpjMas2O",
        "outputId": "39ed3fe3-1fb7-4821-902c-945e0e14b434"
      },
      "execution_count": 7,
      "outputs": [
        {
          "output_type": "stream",
          "name": "stdout",
          "text": [
            "Updated list: [1, 2, 3, 4, 10]\n"
          ]
        }
      ]
    },
    {
      "cell_type": "code",
      "source": [
        "#8.\n",
        "\n",
        "# Define the list\n",
        "numbers = [1, 2, 3, 4, 5]\n",
        "\n",
        "# Remove the number 3 from the list\n",
        "numbers.remove(3)\n",
        "\n",
        "# Print the updated list\n",
        "print(\"Updated list:\", numbers)\n"
      ],
      "metadata": {
        "colab": {
          "base_uri": "https://localhost:8080/"
        },
        "id": "TR6P6XPgaz7u",
        "outputId": "b6735702-30a6-41f2-cec4-31196b4a6d03"
      },
      "execution_count": 8,
      "outputs": [
        {
          "output_type": "stream",
          "name": "stdout",
          "text": [
            "Updated list: [1, 2, 4, 5]\n"
          ]
        }
      ]
    },
    {
      "cell_type": "code",
      "source": [
        "#9.\n",
        "\n",
        "# Define the list\n",
        "letters = ['a', 'b', 'c', 'd']\n",
        "\n",
        "# Access the second element (index 1)\n",
        "second_element = letters[1]\n",
        "\n",
        "# Print the second element\n",
        "print(\"The second element is:\", second_element)\n"
      ],
      "metadata": {
        "colab": {
          "base_uri": "https://localhost:8080/"
        },
        "id": "lZNEONmaa5pm",
        "outputId": "5fbc9bab-ae9b-4fed-8789-224c2b875d70"
      },
      "execution_count": 9,
      "outputs": [
        {
          "output_type": "stream",
          "name": "stdout",
          "text": [
            "The second element is: b\n"
          ]
        }
      ]
    },
    {
      "cell_type": "code",
      "source": [
        "#10.\n",
        "\n",
        "# Define the list\n",
        "numbers = [10, 20, 30, 40, 50]\n",
        "\n",
        "# Reverse the list\n",
        "reversed_numbers = numbers[::-1]\n",
        "\n",
        "# Print the reversed list\n",
        "print(\"Reversed list:\", reversed_numbers)\n"
      ],
      "metadata": {
        "colab": {
          "base_uri": "https://localhost:8080/"
        },
        "id": "cmybNtw7bRqu",
        "outputId": "6f2cdb93-e75d-40ad-d5f0-ef40fbaf93ec"
      },
      "execution_count": 10,
      "outputs": [
        {
          "output_type": "stream",
          "name": "stdout",
          "text": [
            "Reversed list: [50, 40, 30, 20, 10]\n"
          ]
        }
      ]
    },
    {
      "cell_type": "code",
      "source": [
        "#11.\n",
        "\n",
        "# Create a tuple with the elements 100, 200, 300\n",
        "my_tuple = (100, 200, 300)\n",
        "\n",
        "# Print the tuple\n",
        "print(\"The tuple is:\", my_tuple)\n"
      ],
      "metadata": {
        "colab": {
          "base_uri": "https://localhost:8080/"
        },
        "id": "1e7rta2ibkgm",
        "outputId": "05c61c73-b94c-4a8d-90c4-1100ae2a0967"
      },
      "execution_count": 11,
      "outputs": [
        {
          "output_type": "stream",
          "name": "stdout",
          "text": [
            "The tuple is: (100, 200, 300)\n"
          ]
        }
      ]
    },
    {
      "cell_type": "code",
      "source": [
        "#12.\n",
        "\n",
        "# Define the tuple\n",
        "colors = ('red', 'green', 'blue', 'yellow')\n",
        "\n",
        "# Access the second-to-last element using negative indexing\n",
        "second_to_last = colors[-2]\n",
        "\n",
        "# Print the second-to-last element\n",
        "print(\"The second-to-last element is:\", second_to_last)\n"
      ],
      "metadata": {
        "colab": {
          "base_uri": "https://localhost:8080/"
        },
        "id": "tktgADJAbtmu",
        "outputId": "02a85a60-e848-493d-8a79-52aa47565578"
      },
      "execution_count": 12,
      "outputs": [
        {
          "output_type": "stream",
          "name": "stdout",
          "text": [
            "The second-to-last element is: blue\n"
          ]
        }
      ]
    },
    {
      "cell_type": "code",
      "source": [
        "#13.\n",
        "\n",
        "# Define the tuple\n",
        "numbers = (10, 20, 5, 15)\n",
        "\n",
        "# Find the minimum number\n",
        "min_number = min(numbers)\n",
        "\n",
        "# Print the minimum number\n",
        "print(\"The minimum number is:\", min_number)\n"
      ],
      "metadata": {
        "colab": {
          "base_uri": "https://localhost:8080/"
        },
        "id": "FWPdKQ-lb2tr",
        "outputId": "121962fb-7be5-43ee-c940-f1e8d3c655c0"
      },
      "execution_count": 13,
      "outputs": [
        {
          "output_type": "stream",
          "name": "stdout",
          "text": [
            "The minimum number is: 5\n"
          ]
        }
      ]
    },
    {
      "cell_type": "code",
      "source": [
        "#14.\n",
        "\n",
        "# Define the tuple\n",
        "animals = ('dog', 'cat', 'rabbit')\n",
        "\n",
        "# Find the index of the element 'cat'\n",
        "index_of_cat = animals.index('cat')\n",
        "\n",
        "# Print the index\n",
        "print(\"The index of 'cat' is:\", index_of_cat)\n"
      ],
      "metadata": {
        "colab": {
          "base_uri": "https://localhost:8080/"
        },
        "id": "qdjRuhTIb7od",
        "outputId": "8471f4d3-e72c-40bf-bb94-222aaedbcbdb"
      },
      "execution_count": 14,
      "outputs": [
        {
          "output_type": "stream",
          "name": "stdout",
          "text": [
            "The index of 'cat' is: 1\n"
          ]
        }
      ]
    },
    {
      "cell_type": "code",
      "source": [
        "#15.\n",
        "\n",
        "# Create the tuple with three different fruits\n",
        "fruits = ('apple', 'banana', 'orange')\n",
        "\n",
        "# Check if 'kiwi' is in the tuple\n",
        "is_kiwi_in_tuple = 'kiwi' in fruits\n",
        "\n",
        "# Print the result\n",
        "print(\"Is 'kiwi' in the tuple?\", is_kiwi_in_tuple)\n"
      ],
      "metadata": {
        "colab": {
          "base_uri": "https://localhost:8080/"
        },
        "id": "ipmKjzLHfehm",
        "outputId": "69b387da-9e21-4772-e72d-dbaf8c0df2b7"
      },
      "execution_count": 15,
      "outputs": [
        {
          "output_type": "stream",
          "name": "stdout",
          "text": [
            "Is 'kiwi' in the tuple? False\n"
          ]
        }
      ]
    },
    {
      "cell_type": "code",
      "source": [
        "#16.\n",
        "\n",
        "# Create a set with the elements 'a', 'b', 'c'\n",
        "my_set = {'a', 'b', 'c'}\n",
        "\n",
        "# Print the set\n",
        "print(\"The set is:\", my_set)\n"
      ],
      "metadata": {
        "colab": {
          "base_uri": "https://localhost:8080/"
        },
        "id": "Ttdlhif1gCxl",
        "outputId": "3dd95546-7280-4f68-dc2e-2b1d9de2a0e9"
      },
      "execution_count": 16,
      "outputs": [
        {
          "output_type": "stream",
          "name": "stdout",
          "text": [
            "The set is: {'b', 'c', 'a'}\n"
          ]
        }
      ]
    },
    {
      "cell_type": "code",
      "source": [
        "#17.\n",
        "\n",
        "# Define the set\n",
        "my_set = {1, 2, 3, 4, 5}\n",
        "\n",
        "# Clear all elements from the set\n",
        "my_set.clear()\n",
        "\n",
        "# Print the empty set\n",
        "print(\"The set after clearing all elements:\", my_set)\n"
      ],
      "metadata": {
        "colab": {
          "base_uri": "https://localhost:8080/"
        },
        "id": "T4GEKoGIiu5V",
        "outputId": "3497ac51-96cd-481d-c6ac-39a0558e5e7a"
      },
      "execution_count": 17,
      "outputs": [
        {
          "output_type": "stream",
          "name": "stdout",
          "text": [
            "The set after clearing all elements: set()\n"
          ]
        }
      ]
    },
    {
      "cell_type": "code",
      "source": [
        "#18.\n",
        "\n",
        "# Define the set\n",
        "my_set = {1, 2, 3, 4}\n",
        "\n",
        "# Remove the element 4 from the set\n",
        "my_set.remove(4)\n",
        "\n",
        "# Print the updated set\n",
        "print(\"The set after removing 4:\", my_set)\n"
      ],
      "metadata": {
        "colab": {
          "base_uri": "https://localhost:8080/"
        },
        "id": "4gL-f_GBi0Ft",
        "outputId": "4eb7ea92-f9eb-4edb-e395-8f26d0b6c5ec"
      },
      "execution_count": 18,
      "outputs": [
        {
          "output_type": "stream",
          "name": "stdout",
          "text": [
            "The set after removing 4: {1, 2, 3}\n"
          ]
        }
      ]
    },
    {
      "cell_type": "code",
      "source": [
        "#19.\n",
        "\n",
        "# Define the two sets\n",
        "set1 = {1, 2, 3}\n",
        "set2 = {3, 4, 5}\n",
        "\n",
        "# Find the union of the two sets\n",
        "union_set = set1 | set2  # or use set1.union(set2)\n",
        "\n",
        "# Print the union of the sets\n",
        "print(\"Union of the sets:\", union_set)\n"
      ],
      "metadata": {
        "colab": {
          "base_uri": "https://localhost:8080/"
        },
        "id": "m-DhoVtvi7qV",
        "outputId": "cd6f7dcf-de67-4b6b-eed0-3ee49931ca23"
      },
      "execution_count": 19,
      "outputs": [
        {
          "output_type": "stream",
          "name": "stdout",
          "text": [
            "Union of the sets: {1, 2, 3, 4, 5}\n"
          ]
        }
      ]
    },
    {
      "cell_type": "code",
      "source": [
        "#20.\n",
        "\n",
        "# Define the two sets\n",
        "set1 = {1, 2, 3}\n",
        "set2 = {2, 3, 4}\n",
        "\n",
        "# Find the intersection of the two sets\n",
        "intersection_set = set1 & set2  # or use set1.intersection(set2)\n",
        "\n",
        "# Print the intersection of the sets\n",
        "print(\"Intersection of the sets:\", intersection_set)\n"
      ],
      "metadata": {
        "colab": {
          "base_uri": "https://localhost:8080/"
        },
        "id": "oNJ0Myv8jArl",
        "outputId": "bb294f65-9caa-405c-d136-37d09b049880"
      },
      "execution_count": 20,
      "outputs": [
        {
          "output_type": "stream",
          "name": "stdout",
          "text": [
            "Intersection of the sets: {2, 3}\n"
          ]
        }
      ]
    },
    {
      "cell_type": "code",
      "source": [
        "#21.\n",
        "\n",
        "# Create the dictionary\n",
        "person = {\n",
        "    \"name\": \"Alice\",\n",
        "    \"age\": 30,\n",
        "    \"city\": \"New York\"\n",
        "}\n",
        "\n",
        "# Print the dictionary\n",
        "print(\"The dictionary is:\", person)\n"
      ],
      "metadata": {
        "colab": {
          "base_uri": "https://localhost:8080/"
        },
        "id": "1PUyWHA4jw29",
        "outputId": "0e1a8827-da1e-49d0-d022-be2b940c7622"
      },
      "execution_count": 21,
      "outputs": [
        {
          "output_type": "stream",
          "name": "stdout",
          "text": [
            "The dictionary is: {'name': 'Alice', 'age': 30, 'city': 'New York'}\n"
          ]
        }
      ]
    },
    {
      "cell_type": "code",
      "source": [
        "#22.\n",
        "\n",
        "# Define the dictionary\n",
        "person = {'name': 'John', 'age': 25}\n",
        "\n",
        "# Add the new key-value pair\n",
        "person[\"country\"] = \"USA\"\n",
        "\n",
        "# Print the updated dictionary\n",
        "print(\"Updated dictionary:\", person)\n"
      ],
      "metadata": {
        "colab": {
          "base_uri": "https://localhost:8080/"
        },
        "id": "Q6soSZlwj2XN",
        "outputId": "375201d3-0f68-441f-937c-8d16a1ff52b9"
      },
      "execution_count": 22,
      "outputs": [
        {
          "output_type": "stream",
          "name": "stdout",
          "text": [
            "Updated dictionary: {'name': 'John', 'age': 25, 'country': 'USA'}\n"
          ]
        }
      ]
    },
    {
      "cell_type": "code",
      "source": [
        "#23.\n",
        "\n",
        "# Define the dictionary\n",
        "person = {'name': 'Alice', 'age': 30}\n",
        "\n",
        "# Access the value associated with the key 'name'\n",
        "name_value = person['name']\n",
        "\n",
        "# Print the value\n",
        "print(\"The value associated with the key 'name' is:\", name_value)\n"
      ],
      "metadata": {
        "colab": {
          "base_uri": "https://localhost:8080/"
        },
        "id": "Ohsmogbzj8m9",
        "outputId": "c7011dcf-bfea-48d0-bab4-74d9b663a2ab"
      },
      "execution_count": 23,
      "outputs": [
        {
          "output_type": "stream",
          "name": "stdout",
          "text": [
            "The value associated with the key 'name' is: Alice\n"
          ]
        }
      ]
    },
    {
      "cell_type": "code",
      "source": [
        "#24.\n",
        "\n",
        "# Define the dictionary\n",
        "person = {'name': 'Bob', 'age': 22, 'city': 'New York'}\n",
        "\n",
        "# Remove the key 'age' from the dictionary\n",
        "del person['age']\n",
        "\n",
        "# Print the updated dictionary\n",
        "print(\"Updated dictionary:\", person)\n"
      ],
      "metadata": {
        "colab": {
          "base_uri": "https://localhost:8080/"
        },
        "id": "i2Stvz3wkB61",
        "outputId": "7fc17975-8c66-4362-ed42-7b2c55acfab1"
      },
      "execution_count": 24,
      "outputs": [
        {
          "output_type": "stream",
          "name": "stdout",
          "text": [
            "Updated dictionary: {'name': 'Bob', 'city': 'New York'}\n"
          ]
        }
      ]
    },
    {
      "cell_type": "code",
      "source": [
        "#25.\n",
        "\n",
        "# Define the dictionary\n",
        "person = {'name': 'Alice', 'city': 'Paris'}\n",
        "\n",
        "# Check if the key 'city' exists in the dictionary\n",
        "if \"city\" in person:\n",
        "    print(\"The key 'city' exists in the dictionary.\")\n",
        "else:\n",
        "    print(\"The key 'city' does not exist in the dictionary.\")\n"
      ],
      "metadata": {
        "colab": {
          "base_uri": "https://localhost:8080/"
        },
        "id": "uOKzzLUykG19",
        "outputId": "cf7723fa-2be2-44a5-e330-84ff8430574b"
      },
      "execution_count": 25,
      "outputs": [
        {
          "output_type": "stream",
          "name": "stdout",
          "text": [
            "The key 'city' exists in the dictionary.\n"
          ]
        }
      ]
    },
    {
      "cell_type": "code",
      "source": [
        "#26.\n",
        "\n",
        "# Create a list\n",
        "my_list = [1, 2, 3, 4, 5]\n",
        "\n",
        "# Create a tuple\n",
        "my_tuple = ('apple', 'banana', 'cherry')\n",
        "\n",
        "# Create a dictionary\n",
        "my_dict = {'name': 'Alice', 'age': 30, 'city': 'New York'}\n",
        "\n",
        "# Print the list, tuple, and dictionary\n",
        "print(\"List:\", my_list)\n",
        "print(\"Tuple:\", my_tuple)\n",
        "print(\"Dictionary:\", my_dict)\n"
      ],
      "metadata": {
        "colab": {
          "base_uri": "https://localhost:8080/"
        },
        "id": "Je5eddCOkNj9",
        "outputId": "bc71c944-d559-4f2e-e9ff-416630452c9a"
      },
      "execution_count": 26,
      "outputs": [
        {
          "output_type": "stream",
          "name": "stdout",
          "text": [
            "List: [1, 2, 3, 4, 5]\n",
            "Tuple: ('apple', 'banana', 'cherry')\n",
            "Dictionary: {'name': 'Alice', 'age': 30, 'city': 'New York'}\n"
          ]
        }
      ]
    },
    {
      "cell_type": "code",
      "source": [
        "#27.\n",
        "\n",
        "import random\n",
        "\n",
        "# Create a list of 5 random numbers between 1 and 100\n",
        "random_numbers = [random.randint(1, 100) for _ in range(5)]\n",
        "\n",
        "# Sort the list in ascending order\n",
        "random_numbers.sort()\n",
        "\n",
        "# Print the sorted list\n",
        "print(\"Sorted list of random numbers:\", random_numbers)\n"
      ],
      "metadata": {
        "colab": {
          "base_uri": "https://localhost:8080/"
        },
        "id": "6JQ7Shj_kTRt",
        "outputId": "b5c2603f-8746-4dee-b96e-64bd1d2d8053"
      },
      "execution_count": 27,
      "outputs": [
        {
          "output_type": "stream",
          "name": "stdout",
          "text": [
            "Sorted list of random numbers: [10, 10, 66, 91, 95]\n"
          ]
        }
      ]
    },
    {
      "cell_type": "code",
      "source": [
        "#28.\n",
        "\n",
        "# Create a list with strings\n",
        "words = ['apple', 'banana', 'cherry', 'date', 'elderberry']\n",
        "\n",
        "# Print the element at the third index (index 3)\n",
        "print(\"Element at index 3:\", words[3])\n"
      ],
      "metadata": {
        "colab": {
          "base_uri": "https://localhost:8080/"
        },
        "id": "4vz-kEVuk3mN",
        "outputId": "1a35823b-8713-404c-be3d-eade5394684a"
      },
      "execution_count": 28,
      "outputs": [
        {
          "output_type": "stream",
          "name": "stdout",
          "text": [
            "Element at index 3: date\n"
          ]
        }
      ]
    },
    {
      "cell_type": "code",
      "source": [
        "#29.\n",
        "\n",
        "# Define two dictionaries\n",
        "dict1 = {'a': 1, 'b': 2}\n",
        "dict2 = {'c': 3, 'd': 4}\n",
        "\n",
        "# Combine the dictionaries using the unpacking operator **\n",
        "combined_dict = {**dict1, **dict2}\n",
        "\n",
        "# Print the combined dictionary\n",
        "print(\"Combined dictionary:\", combined_dict)\n"
      ],
      "metadata": {
        "colab": {
          "base_uri": "https://localhost:8080/"
        },
        "id": "Bj7TEnjok9A0",
        "outputId": "0332c412-47ea-40f6-b899-2e10876959cd"
      },
      "execution_count": 29,
      "outputs": [
        {
          "output_type": "stream",
          "name": "stdout",
          "text": [
            "Combined dictionary: {'a': 1, 'b': 2, 'c': 3, 'd': 4}\n"
          ]
        }
      ]
    },
    {
      "cell_type": "code",
      "source": [
        "#30.\n",
        "\n",
        "# Define a list of strings\n",
        "string_list = ['apple', 'banana', 'cherry', 'apple', 'banana']\n",
        "\n",
        "# Convert the list to a set\n",
        "string_set = set(string_list)\n",
        "\n",
        "# Print the set\n",
        "print(\"Set from list:\", string_set)\n"
      ],
      "metadata": {
        "colab": {
          "base_uri": "https://localhost:8080/"
        },
        "id": "jbaWzu4RlGuF",
        "outputId": "38d453ee-ee8f-4241-c628-22030ed790aa"
      },
      "execution_count": 30,
      "outputs": [
        {
          "output_type": "stream",
          "name": "stdout",
          "text": [
            "Set from list: {'cherry', 'banana', 'apple'}\n"
          ]
        }
      ]
    }
  ]
}